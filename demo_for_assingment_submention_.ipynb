{
  "nbformat": 4,
  "nbformat_minor": 0,
  "metadata": {
    "colab": {
      "private_outputs": true,
      "provenance": []
    },
    "kernelspec": {
      "name": "python3",
      "display_name": "Python 3"
    },
    "language_info": {
      "name": "python"
    }
  },
  "cells": [
    {
      "cell_type": "markdown",
      "source": [],
      "metadata": {
        "id": "Ci4sPrtDELyC"
      }
    },
    {
      "cell_type": "markdown",
      "source": [
        "# funtion\n",
        "1.  what is type casting ?\n",
        "    - Type casting is the process of converting a variable from one data type to another. For example, converting an integer to a string or a float to an integer.  "
      ],
      "metadata": {
        "id": "og9mpZyREOE6"
      }
    },
    {
      "cell_type": "markdown",
      "source": [],
      "metadata": {
        "id": "bh7dzihGEL1M"
      }
    }
  ]
}